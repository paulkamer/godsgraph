{
 "cells": [
  {
   "attachments": {},
   "cell_type": "markdown",
   "metadata": {},
   "source": [
    "# Init"
   ]
  },
  {
   "cell_type": "markdown",
   "metadata": {},
   "source": [
    "## Install dependencies"
   ]
  },
  {
   "cell_type": "code",
   "execution_count": null,
   "metadata": {},
   "outputs": [],
   "source": [
    "%pip install python-dotenv -q\n",
    "%pip install SPARQLWrapper -q\n",
    "%pip install neo4j -q"
   ]
  },
  {
   "cell_type": "code",
   "execution_count": 2,
   "metadata": {},
   "outputs": [],
   "source": [
    "from SPARQLWrapper import SPARQLWrapper, JSON\n",
    "\n",
    "sparql = SPARQLWrapper(\"https://query.wikidata.org/sparql\")"
   ]
  },
  {
   "cell_type": "markdown",
   "metadata": {},
   "source": [
    "## Connect to Neo4J"
   ]
  },
  {
   "cell_type": "code",
   "execution_count": 3,
   "metadata": {},
   "outputs": [],
   "source": [
    "import os\n",
    "from neo4j import GraphDatabase\n",
    "from dotenv import load_dotenv\n",
    "\n",
    "load_dotenv()\n",
    "url = os.getenv('NEO4J_BOLT_URL')\n",
    "user = os.getenv('NEO4J_USERNAME')\n",
    "password = os.getenv('NEO4J_PASSWORD')\n",
    "\n",
    "driver = GraphDatabase.driver(url, auth=(user,password))"
   ]
  },
  {
   "attachments": {},
   "cell_type": "markdown",
   "metadata": {},
   "source": [
    "# Populate database"
   ]
  },
  {
   "attachments": {},
   "cell_type": "markdown",
   "metadata": {},
   "source": [
    "## Purge Neo4j"
   ]
  },
  {
   "cell_type": "code",
   "execution_count": 4,
   "metadata": {},
   "outputs": [],
   "source": [
    "# Delete all nodes & relationships\n",
    "with driver.session() as session:\n",
    "    session.run(\"MATCH (n) DETACH DELETE n\")"
   ]
  },
  {
   "cell_type": "markdown",
   "metadata": {},
   "source": [
    "## Query Wikidata"
   ]
  },
  {
   "cell_type": "code",
   "execution_count": 8,
   "metadata": {},
   "outputs": [
    {
     "name": "stdout",
     "output_type": "stream",
     "text": [
      "Found 3924 deities\n"
     ]
    }
   ],
   "source": [
    "sparql.setQuery(\"\"\"\n",
    "SELECT DISTINCT \n",
    "  ?deity ?deityLabel ?deityDescription\n",
    "#   ?parentDeity ?parentDeityLabel \n",
    "  ?domainOfSaint ?domainOfSaintLabel \n",
    "  ?deityOf ?deityOfLabel\n",
    "WHERE \n",
    "{\n",
    "  { ?deity wdt:P31* wd:Q178885 . }     # instance_of deity\n",
    "  UNION\n",
    "  {\n",
    "    ?deity wdt:P31 ?parentDeity .      # deities that are an instance of (P31) a parent deity\n",
    "    ?parentDeity wdt:P279 wd:Q178885  .  # parent deity that is a \"subclass of\" (P279) 'deity' (Q178885)\n",
    "  }\n",
    "\n",
    "  ?deity p:P31 ?deity_instance .                  # instance_of (Pax is an instance of a Romain Deity)\n",
    "  OPTIONAL { ?deity_instance pq:P642 ?deityOf . } # \"of\" attribute of the instance_of (Romain Deity OF peace) \n",
    "  OPTIONAL { ?deity wdt:P2925  ?domainOfSaint . } # \"domain of saint or deity\" (P2925) (Mars is deity of War and Agriculture)\n",
    "  \n",
    "  \n",
    "  SERVICE wikibase:label { bd:serviceParam wikibase:language \"en\" }\n",
    "    \n",
    "  ?deity rdfs:label ?deityLabel .\n",
    "  FILTER(LANG(?deityLabel) = \"en\")    # Filter for English labels\n",
    "}\n",
    "ORDER BY ?deityLabel\n",
    "\"\"\")\n",
    "\n",
    "sparql.setReturnFormat(JSON)\n",
    "results = sparql.query().convert()\n",
    "\n",
    "print(f\"Found {len(results['results']['bindings'])} deities\")"
   ]
  },
  {
   "cell_type": "markdown",
   "metadata": {},
   "source": [
    "## Insert into Neo4J"
   ]
  },
  {
   "cell_type": "code",
   "execution_count": 6,
   "metadata": {},
   "outputs": [],
   "source": [
    "with driver.session() as session:  \n",
    "\n",
    "  for row in results[\"results\"][\"bindings\"]:    \n",
    "      session.run(\"\"\"\n",
    "                  MERGE (d:Deity { name: $deity_name, entity: $deity_entity, description: $deity_description })\n",
    "\n",
    "                  \"\"\", \n",
    "        deity_name=row[\"deityLabel\"][\"value\"], \n",
    "        deity_entity=row[\"deity\"]['value'],\n",
    "        deity_description=row.get(\"deityDescription\", {}).get('value', '-')\n",
    "      )\n",
    "      \n",
    "      if (\"domainOfSaintLabel\" in row):\n",
    "          session.run(\"\"\"\n",
    "              MERGE (deity:Deity { entity: $deity_entity })\n",
    "              MERGE (domain:Domain { name: $domain_name, entity: $domain_entity }) \n",
    "              MERGE (deity)-[:GOD_OF]->(domain)\n",
    "              \"\"\", \n",
    "                  domain_name=row[\"domainOfSaintLabel\"][\"value\"], \n",
    "                  domain_entity=row[\"domainOfSaint\"]['value'],\n",
    "                  deity_entity=row[\"deity\"]['value'])"
   ]
  }
 ],
 "metadata": {
  "kernelspec": {
   "display_name": "Python 3",
   "language": "python",
   "name": "python3"
  },
  "language_info": {
   "codemirror_mode": {
    "name": "ipython",
    "version": 3
   },
   "file_extension": ".py",
   "mimetype": "text/x-python",
   "name": "python",
   "nbconvert_exporter": "python",
   "pygments_lexer": "ipython3",
   "version": "3.10.12"
  },
  "orig_nbformat": 4,
  "vscode": {
   "interpreter": {
    "hash": "916dbcbb3f70747c44a77c7bcd40155683ae19c65e1c03b4aa3499c5328201f1"
   }
  }
 },
 "nbformat": 4,
 "nbformat_minor": 2
}
