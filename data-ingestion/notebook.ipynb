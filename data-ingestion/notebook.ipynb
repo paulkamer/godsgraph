{
 "cells": [
  {
   "attachments": {},
   "cell_type": "markdown",
   "metadata": {},
   "source": [
    "# Setup"
   ]
  },
  {
   "cell_type": "markdown",
   "metadata": {},
   "source": [
    "## Install dependencies"
   ]
  },
  {
   "cell_type": "code",
   "execution_count": null,
   "metadata": {},
   "outputs": [],
   "source": [
    "%pip install python-dotenv -q\n",
    "%pip install SPARQLWrapper -q\n",
    "%pip install neo4j -q"
   ]
  },
  {
   "cell_type": "code",
   "execution_count": 1,
   "metadata": {},
   "outputs": [],
   "source": [
    "from SPARQLWrapper import SPARQLWrapper, JSON\n",
    "\n",
    "sparql = SPARQLWrapper(\"https://query.wikidata.org/sparql\")"
   ]
  },
  {
   "cell_type": "markdown",
   "metadata": {},
   "source": [
    "## Connect to Neo4J"
   ]
  },
  {
   "cell_type": "code",
   "execution_count": 2,
   "metadata": {},
   "outputs": [],
   "source": [
    "import os\n",
    "from neo4j import GraphDatabase\n",
    "from dotenv import load_dotenv\n",
    "\n",
    "load_dotenv()\n",
    "url = os.getenv('NEO4J_BOLT_URL')\n",
    "user = os.getenv('NEO4J_USERNAME')\n",
    "password = os.getenv('NEO4J_PASSWORD')\n",
    "\n",
    "driver = GraphDatabase.driver(url, auth=(user,password))"
   ]
  },
  {
   "attachments": {},
   "cell_type": "markdown",
   "metadata": {},
   "source": [
    "# Populate database"
   ]
  },
  {
   "attachments": {},
   "cell_type": "markdown",
   "metadata": {},
   "source": [
    "## Purge"
   ]
  },
  {
   "cell_type": "code",
   "execution_count": 39,
   "metadata": {},
   "outputs": [],
   "source": [
    "# Delete all nodes & relationships\n",
    "with driver.session() as session:\n",
    "    session.run(\"MATCH (n) DETACH DELETE n\")"
   ]
  },
  {
   "cell_type": "markdown",
   "metadata": {},
   "source": [
    "## Query religions"
   ]
  },
  {
   "cell_type": "code",
   "execution_count": 6,
   "metadata": {},
   "outputs": [
    {
     "name": "stdout",
     "output_type": "stream",
     "text": [
      "Found 393 religions\n"
     ]
    }
   ],
   "source": [
    "sparql.setQuery(\"\"\"\n",
    "SELECT DISTINCT ?subject ?subjectLabel\n",
    "WHERE\n",
    "{\n",
    "{ ?subject wdt:P31 wd:Q9174 . } # instance_of religion\n",
    "UNION\n",
    "{ ?subject wdt:P31 wd:Q9134 . } # instance_of mythology\n",
    "\n",
    "SERVICE wikibase:label { bd:serviceParam wikibase:language \"en\" }\n",
    "\n",
    "?subject rdfs:label ?subjectLabel .\n",
    "FILTER(LANG(?subjectLabel) = \"en\") # Filter for English labels\n",
    "}\n",
    "\"\"\")\n",
    "\n",
    "sparql.setReturnFormat(JSON)\n",
    "religions = sparql.query().convert()\n",
    "\n",
    "print(f\"Found {len(religions['results']['bindings'])} religions\")"
   ]
  },
  {
   "cell_type": "markdown",
   "metadata": {},
   "source": [
    "## Query deities"
   ]
  },
  {
   "cell_type": "code",
   "execution_count": 7,
   "metadata": {},
   "outputs": [
    {
     "name": "stdout",
     "output_type": "stream",
     "text": [
      "Found 3925 deities\n"
     ]
    }
   ],
   "source": [
    "sparql.setQuery(\"\"\"\n",
    "SELECT DISTINCT \n",
    "  ?deity ?deityLabel ?deityDescription\n",
    "#   ?parentDeity ?parentDeityLabel \n",
    "  ?domainOfSaint ?domainOfSaintLabel \n",
    "  ?deityOf ?deityOfLabel\n",
    "WHERE \n",
    "{\n",
    "  { ?deity wdt:P31* wd:Q178885 . }     # instance_of deity\n",
    "  UNION\n",
    "  {\n",
    "    ?deity wdt:P31 ?parentDeity .      # deities that are an instance of (P31) a parent deity\n",
    "    ?parentDeity wdt:P279 wd:Q178885  .  # parent deity that is a \"subclass of\" (P279) 'deity' (Q178885)\n",
    "  }\n",
    "\n",
    "  ?deity p:P31 ?deity_instance .                  # instance_of (Pax is an instance of a Romain Deity)\n",
    "  OPTIONAL { ?deity_instance pq:P642 ?deityOf . } # \"of\" attribute of the instance_of (Romain Deity OF peace) \n",
    "  OPTIONAL { ?deity wdt:P2925  ?domainOfSaint . } # \"domain of saint or deity\" (P2925) (Mars is deity of War and Agriculture)\n",
    "  \n",
    "  \n",
    "  SERVICE wikibase:label { bd:serviceParam wikibase:language \"en\" }\n",
    "    \n",
    "  ?deity rdfs:label ?deityLabel .\n",
    "  FILTER(LANG(?deityLabel) = \"en\")    # Filter for English labels\n",
    "}\n",
    "ORDER BY ?deityLabel\n",
    "\"\"\")\n",
    "\n",
    "sparql.setReturnFormat(JSON)\n",
    "deities = sparql.query().convert()\n",
    "\n",
    "print(f\"Found {len(deities['results']['bindings'])} deities\")"
   ]
  },
  {
   "cell_type": "code",
   "execution_count": 4,
   "metadata": {},
   "outputs": [
    {
     "name": "stdout",
     "output_type": "stream",
     "text": [
      "Found 7080 deities\n"
     ]
    }
   ],
   "source": [
    "sparql.setQuery(\"\"\"\n",
    "SELECT DISTINCT\n",
    "  ?deity ?deityLabel\n",
    "  ?deityOf ?deityOfLabel\n",
    "  ?domainOfSaint ?domainOfSaintLabel\n",
    "\n",
    "  ?partOf ?partOfLabel\n",
    "  ?worshippedBy ?worshippedByLabel\n",
    "\n",
    "  ?parentDeity ?parentDeityLabel\n",
    "  ?parentPartOf ?parentPartOfLabel\n",
    "  ?parentWorshippedBy ?parentWorshippedByLabel\n",
    "\n",
    "WHERE\n",
    "{\n",
    "  ?deity wdt:P31 ?parentDeity .                              # deites that are an instance of (P31) a parent deity\n",
    "  ?parentDeity wdt:P279 wd:Q178885 .                         # parent deity that is a \"subclass of\" (P279) 'deity' (Q178885)\n",
    "\n",
    "  ?deity p:P31 ?deity_instance .                             # instance_of (Pax is an instance of a Romain Deity)\n",
    "\n",
    "  OPTIONAL { ?deity_instance pq:P642 ?deityOf . }            # \"of\" attribute of the instance_of (Romain Deity OF peace)\n",
    "  OPTIONAL { ?deity wdt:P2925 ?domainOfSaint . }             # \"domain of saint or deity\" (P2925) (Mars is deity of War and Agriculture)\n",
    "\n",
    "  OPTIONAL { ?deity wdt:P361 ?partOf . }                     # deity is part of a religion or mythology\n",
    "  OPTIONAL { ?deity wdt:P1049 ?worshippedBy . }              # deity is worshipped by of a religion or mythology\n",
    "  OPTIONAL { ?parentDeity wdt:P361 ?parentPartOf . }         # 'part of' religion/mythology\n",
    "  OPTIONAL { ?parentDeity wdt:P1049 ?parentWorshippedBy . }  # 'worshipped by' religion/mythology\n",
    "\n",
    "  SERVICE wikibase:label { bd:serviceParam wikibase:language \"[AUTO_LANGUAGE],en\". }\n",
    "#   FILTER (BOUND(?deityOf))\n",
    "  \n",
    "  FILTER (BOUND(?partOf) || BOUND(?worshippedBy) || BOUND(?parentPartOf) || BOUND(?parentWorshippedBy))\n",
    "  \n",
    "  ?deity rdfs:label ?deityLabel .\n",
    "  FILTER(LANG(?deityLabel) = \"en\")\n",
    "}\n",
    "ORDER BY ?deityLabel\n",
    "# LIMIT 1000\n",
    "\"\"\")\n",
    "\n",
    "sparql.setReturnFormat(JSON)\n",
    "deities = sparql.query().convert()\n",
    "\n",
    "print(f\"Found {len(deities['results']['bindings'])} deities\")"
   ]
  },
  {
   "cell_type": "markdown",
   "metadata": {},
   "source": [
    "## Insert data"
   ]
  },
  {
   "cell_type": "code",
   "execution_count": 40,
   "metadata": {},
   "outputs": [],
   "source": [
    "# insert religions\n",
    "with driver.session() as session:  \n",
    "\n",
    "  for row in religions[\"results\"][\"bindings\"]:    \n",
    "      session.run(\"\"\"\n",
    "                  MERGE (r:Religion { name: $name, entity: $entity })\n",
    "\n",
    "                  \"\"\", \n",
    "        name=row[\"subjectLabel\"][\"value\"], \n",
    "        entity=row[\"subject\"]['value']\n",
    "      )"
   ]
  },
  {
   "cell_type": "code",
   "execution_count": 41,
   "metadata": {},
   "outputs": [],
   "source": [
    "with driver.session() as session:  \n",
    "\n",
    "    for row in deities[\"results\"][\"bindings\"]:\n",
    "        query = \"MERGE (d:Deity { name: $deity_name, entity: $deity})\"\n",
    "      \n",
    "        params = {\n",
    "            \"deity_name\": row[\"deityLabel\"][\"value\"],\n",
    "            \"deity\": row[\"deity\"][\"value\"],\n",
    "        }\n",
    "\n",
    "      \n",
    "        if (\"domainOfSaintLabel\" in row):\n",
    "            query += \"\"\"\n",
    "            MERGE (domainOfSaint:Domain { name: $domain_name, entity: $domain }) \n",
    "            MERGE (d)-[:GOD_OF]->(domainOfSaint)\"\"\"\n",
    "          \n",
    "            params[\"domain_name\"]=row[\"domainOfSaintLabel\"][\"value\"]\n",
    "            params[\"domain\"]=row[\"domainOfSaint\"]['value']\n",
    "\n",
    "      \n",
    "        if (\"deityOf\" in row):\n",
    "            query += \"\"\"\n",
    "            MERGE (domain:Domain { name: $deityOf_name, entity: $deityOf }) \n",
    "            MERGE (d)-[:GOD_OF]->(domain)\"\"\"\n",
    "            \n",
    "            params[\"deityOf_name\"]=row[\"deityOfLabel\"][\"value\"]\n",
    "            params[\"deityOf\"]=row[\"deityOf\"]['value']\n",
    "        \n",
    "        religion = None\n",
    "        religion_name = None\n",
    "        if (\"worshippedBy\" in row):            \n",
    "            religion = row[\"worshippedBy\"]['value']\n",
    "            religion_name = row[\"worshippedByLabel\"][\"value\"]               \n",
    "        elif(\"partOf\" in row):\n",
    "            religion = row[\"partOf\"]['value']\n",
    "            religion_name = row[\"partOfLabel\"][\"value\"]\n",
    "        elif(\"parentWorshippedBy\" in row):\n",
    "            religion = row[\"parentWorshippedBy\"]['value']\n",
    "            religion_name = row[\"parentWorshippedByLabel\"][\"value\"]\n",
    "        elif(\"parentPartOf\" in row):\n",
    "            religion = row[\"parentPartOf\"]['value']\n",
    "            religion_name = row[\"parentPartOfLabel\"][\"value\"]\n",
    "    \n",
    "        if religion and religion_name:\n",
    "            query += \"\"\"\n",
    "                MERGE (r:Religion { name: $religion_name, entity: $religion }) \n",
    "                MERGE (d)-[:PART_OF]->(r)\"\"\"\n",
    "                \n",
    "            params[\"religion\"] = religion\n",
    "            params[\"religion_name\"] = religion_name\n",
    "    \n",
    "        session.run(query, params)\n",
    "      \n"
   ]
  },
  {
   "cell_type": "code",
   "execution_count": 25,
   "metadata": {},
   "outputs": [],
   "source": [
    "# with driver.session() as session:  \n",
    "\n",
    "#   for row in deities[\"results\"][\"bindings\"]:    \n",
    "#       session.run(\"\"\"\n",
    "#                   MERGE (d:Deity { name: $deity_name, entity: $deity_entity})\n",
    "#                   \"\"\", \n",
    "#         deity_name=row[\"deityLabel\"][\"value\"], \n",
    "#         deity_entity=row[\"deity\"]['value'],\n",
    "#         # deity_description=row.get(\"deityDescription\", {}).get('value', '-')\n",
    "#       )\n",
    "      \n",
    "#       if (\"domainOfSaintLabel\" in row):\n",
    "#         session.run(\"\"\"\n",
    "#           MERGE (deity:Deity { entity: $deity_entity })\n",
    "#           MERGE (domain:Domain { name: $domain_name, entity: $domain_entity }) \n",
    "#           MERGE (deity)-[:GOD_OF]->(domain)\"\"\", \n",
    "#           deity_entity=row[\"deity\"]['value'],\n",
    "#           domain_name=row[\"domainOfSaintLabel\"][\"value\"], \n",
    "#           domain_entity=row[\"domainOfSaint\"]['value']\n",
    "#         )\n",
    "      \n",
    "#       if (\"deityOf\" in row):\n",
    "#         session.run(\"\"\"\n",
    "#           MERGE (deity:Deity { entity: $deity_entity })\n",
    "#           MERGE (domain:Domain { name: $domain_name, entity: $domain_entity }) \n",
    "#           MERGE (deity)-[:GOD_OF]->(domain)\"\"\", \n",
    "#           deity_entity=row[\"deity\"]['value'],\n",
    "#           domain_name=row[\"deityOfLabel\"][\"value\"], \n",
    "#           domain_entity=row[\"deityOf\"]['value']\n",
    "#         )    \n",
    "      \n",
    "#       if (\"worshippedBy\" in row):\n",
    "#         session.run(\"\"\"\n",
    "#           MERGE (deity:Deity { entity: $deity_entity })\n",
    "#           MERGE (r:Religion { name: $religion_name, entity: $religion_entity }) \n",
    "#           MERGE (deity)-[:PART_OF]->(r)\"\"\",\n",
    "#           deity_entity=row[\"deity\"]['value'],\n",
    "#           religion_name=row[\"worshippedByLabel\"][\"value\"], \n",
    "#           religion_entity=row[\"worshippedBy\"]['value']\n",
    "#         )\n"
   ]
  },
  {
   "cell_type": "code",
   "execution_count": 8,
   "metadata": {},
   "outputs": [],
   "source": [
    "# with driver.session() as session:  \n",
    "\n",
    "#   for row in deities[\"results\"][\"bindings\"]:    \n",
    "#       session.run(\"\"\"\n",
    "#                   MERGE (d:Deity { name: $deity_name, entity: $deity_entity, description: $deity_description })\n",
    "\n",
    "#                   \"\"\", \n",
    "#         deity_name=row[\"deityLabel\"][\"value\"], \n",
    "#         deity_entity=row[\"deity\"]['value'],\n",
    "#         deity_description=row.get(\"deityDescription\", {}).get('value', '-')\n",
    "#       )\n",
    "      \n",
    "#       if (\"domainOfSaintLabel\" in row):\n",
    "#           session.run(\"\"\"\n",
    "#               MERGE (deity:Deity { entity: $deity_entity })\n",
    "#               MERGE (domain:Domain { name: $domain_name, entity: $domain_entity }) \n",
    "#               MERGE (deity)-[:GOD_OF]->(domain)\n",
    "#               \"\"\", \n",
    "#                   domain_name=row[\"domainOfSaintLabel\"][\"value\"], \n",
    "#                   domain_entity=row[\"domainOfSaint\"]['value'],\n",
    "#                   deity_entity=row[\"deity\"]['value'])"
   ]
  }
 ],
 "metadata": {
  "kernelspec": {
   "display_name": "Python 3",
   "language": "python",
   "name": "python3"
  },
  "language_info": {
   "codemirror_mode": {
    "name": "ipython",
    "version": 3
   },
   "file_extension": ".py",
   "mimetype": "text/x-python",
   "name": "python",
   "nbconvert_exporter": "python",
   "pygments_lexer": "ipython3",
   "version": "3.10.12"
  },
  "orig_nbformat": 4,
  "vscode": {
   "interpreter": {
    "hash": "916dbcbb3f70747c44a77c7bcd40155683ae19c65e1c03b4aa3499c5328201f1"
   }
  }
 },
 "nbformat": 4,
 "nbformat_minor": 2
}
